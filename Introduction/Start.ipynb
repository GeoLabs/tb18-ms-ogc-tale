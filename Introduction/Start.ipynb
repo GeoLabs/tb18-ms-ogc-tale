{
 "cells": [
  {
   "cell_type": "markdown",
   "metadata": {},
   "source": [
    "# Start a basic http server\n",
    "\n",
    "Here you should start only once the following command"
   ]
  },
  {
   "cell_type": "code",
   "execution_count": null,
   "metadata": {
    "scrolled": true
   },
   "outputs": [
    {
     "name": "stdout",
     "output_type": "stream",
     "text": [
      "Serving HTTP on 0.0.0.0 port 8000 (http://0.0.0.0:8000/) ...\n",
      "127.0.0.1 - - [27/Jul/2022 13:00:15] \"GET /cgi-bin/mapserv?map=/home/jovyan/work/workspace/ms-ogc-workshop/service/config.map&version=1.1.1&service=WMS&request=GetCapabilities& HTTP/1.1\" 200 -\n",
      "127.0.0.1 - - [27/Jul/2022 13:00:19] \"GET /cgi-bin/mapserv?map=/home/jovyan/work/workspace/ms-ogc-workshop/service/config.map&version=1.1.1&service=WMS&request=GetCapabilities& HTTP/1.1\" 200 -\n",
      "127.0.0.1 - - [27/Jul/2022 13:07:59] \"GET /cgi-bin/mapserv?map=/home/jovyan/work/workspace/ms-ogc-workshop/service/config.map&version=1.1.1&service=WMS&request=GetMap&srs=EPSG:4326&bbox=-180,-90,180,90&format=image/png&layers=land_shallow_topo_2048,rivers&transparent=true&width=1000&height=600&styles= HTTP/1.1\" 200 -\n",
      "127.0.0.1 - - [27/Jul/2022 13:08:03] \"GET /cgi-bin/mapserv?map=/home/jovyan/work/workspace/ms-ogc-workshop/service/config.map&version=1.1.1&service=WMS&request=GetMap&srs=EPSG:4326&bbox=-180,-90,180,90&format=image/png&layers=land_shallow_topo_2048&transparent=true&width=1000&height=600&styles= HTTP/1.1\" 200 -\n",
      "127.0.0.1 - - [27/Jul/2022 13:08:05] \"GET /cgi-bin/mapserv?map=/home/jovyan/work/workspace/ms-ogc-workshop/service/config.map&version=1.1.1&service=WMS&request=GetMap&srs=EPSG:4326&bbox=-180,-90,180,90&format=image/png&layers=land_shallow_topo_2048,rivers&transparent=true&width=1000&height=600&styles= HTTP/1.1\" 200 -\n",
      "127.0.0.1 - - [27/Jul/2022 13:08:14] \"GET /cgi-bin/mapserv?map=/home/jovyan/work/workspace/ms-ogc-workshop/service/config.map&version=1.1.1&service=WMS&request=GetLegendGraphic&srs=EPSG:4326&bbox=-180,-90,180,90&format=image/png&layers=land_shallow_topo_2048,rivers&transparent=true&width=1000&height=600&styles= HTTP/1.1\" 200 -\n",
      "127.0.0.1 - - [27/Jul/2022 13:08:14] \"GET /cgi-bin/mapserv?map=/home/jovyan/work/workspace/ms-ogc-workshop/service/config.map&version=1.1.1&service=WMS&request=GetMap&srs=EPSG:4326&bbox=-180,-90,180,90&format=image/png&layers=land_shallow_topo_2048,rivers&transparent=true&width=1000&height=600&styles= HTTP/1.1\" 200 -\n",
      "127.0.0.1 - - [27/Jul/2022 13:08:19] \"GET /cgi-bin/mapserv?map=/home/jovyan/work/workspace/ms-ogc-workshop/service/config.map&version=1.1.1&service=WMS&request=GetLegendGraphic&srs=EPSG:4326&bbox=-180,-90,180,90&format=image/png&layers=land_shallow_topo_2048,rivers&transparent=true&width=1000&height=600&styles=&sld=http://localhost:8000/land_shallow_topo_2048.sld HTTP/1.1\" 200 -\n",
      "127.0.0.1 - - [27/Jul/2022 13:08:20] \"GET /land_shallow_topo_2048.sld HTTP/1.1\" 200 -\n",
      "127.0.0.1 - - [27/Jul/2022 13:08:20] \"GET /cgi-bin/mapserv?map=/home/jovyan/work/workspace/ms-ogc-workshop/service/config.map&version=1.1.1&service=WMS&request=GetMap&srs=EPSG:4326&bbox=-180,-90,180,90&format=image/png&layers=land_shallow_topo_2048,rivers&transparent=true&width=1000&height=600&styles=&sld=http://localhost:8000/land_shallow_topo_2048.sld HTTP/1.1\" 200 -\n",
      "127.0.0.1 - - [27/Jul/2022 13:08:20] \"GET /land_shallow_topo_2048.sld HTTP/1.1\" 200 -\n",
      "127.0.0.1 - - [27/Jul/2022 13:08:22] \"GET /cgi-bin/mapserv?map=/home/jovyan/work/workspace/ms-ogc-workshop/service/config.map&version=1.1.1&service=WMS&request=GetLegendGraphic&srs=EPSG:4326&bbox=-180,-90,180,90&format=image/png&layers=land_shallow_topo_2048,rivers&transparent=true&width=1000&height=600&styles=&sld=http://localhost:8000/rivers.sld HTTP/1.1\" 200 -\n",
      "127.0.0.1 - - [27/Jul/2022 13:08:22] \"GET /rivers.sld HTTP/1.1\" 200 -\n",
      "127.0.0.1 - - [27/Jul/2022 13:08:22] \"GET /cgi-bin/mapserv?map=/home/jovyan/work/workspace/ms-ogc-workshop/service/config.map&version=1.1.1&service=WMS&request=GetMap&srs=EPSG:4326&bbox=-180,-90,180,90&format=image/png&layers=land_shallow_topo_2048,rivers&transparent=true&width=1000&height=600&styles=&sld=http://localhost:8000/rivers.sld HTTP/1.1\" 200 -\n",
      "127.0.0.1 - - [27/Jul/2022 13:08:22] \"GET /rivers.sld HTTP/1.1\" 200 -\n",
      "127.0.0.1 - - [27/Jul/2022 13:08:25] \"GET /cgi-bin/mapserv?map=/home/jovyan/work/workspace/ms-ogc-workshop/service/config.map&version=1.1.1&service=WMS&request=GetLegendGraphic&srs=EPSG:4326&bbox=-180,-90,180,90&format=image/png&layers=land_shallow_topo_2048,rivers&transparent=true&width=1000&height=600&styles=&sld=http://localhost:8000/rivers-hilite.sld HTTP/1.1\" 200 -\n",
      "127.0.0.1 - - [27/Jul/2022 13:08:25] \"GET /rivers-hilite.sld HTTP/1.1\" 200 -\n",
      "127.0.0.1 - - [27/Jul/2022 13:08:25] \"GET /cgi-bin/mapserv?map=/home/jovyan/work/workspace/ms-ogc-workshop/service/config.map&version=1.1.1&service=WMS&request=GetMap&srs=EPSG:4326&bbox=-180,-90,180,90&format=image/png&layers=land_shallow_topo_2048,rivers&transparent=true&width=1000&height=600&styles=&sld=http://localhost:8000/rivers-hilite.sld HTTP/1.1\" 200 -\n",
      "127.0.0.1 - - [27/Jul/2022 13:08:25] \"GET /rivers-hilite.sld HTTP/1.1\" 200 -\n",
      "127.0.0.1 - - [27/Jul/2022 13:08:28] \"GET /cgi-bin/mapserv?map=/home/jovyan/work/workspace/ms-ogc-workshop/service/config.map&version=1.1.1&service=WMS&request=GetLegendGraphic&srs=EPSG:4326&bbox=-180,-90,180,90&format=image/png&layers=land_shallow_topo_2048,rivers&transparent=true&width=1000&height=600&styles=&sld=http://localhost:8000/rivers-filter.sld HTTP/1.1\" 200 -\n",
      "127.0.0.1 - - [27/Jul/2022 13:08:28] \"GET /rivers-filter.sld HTTP/1.1\" 200 -\n",
      "127.0.0.1 - - [27/Jul/2022 13:08:28] \"GET /cgi-bin/mapserv?map=/home/jovyan/work/workspace/ms-ogc-workshop/service/config.map&version=1.1.1&service=WMS&request=GetMap&srs=EPSG:4326&bbox=-180,-90,180,90&format=image/png&layers=land_shallow_topo_2048,rivers&transparent=true&width=1000&height=600&styles=&sld=http://localhost:8000/rivers-filter.sld HTTP/1.1\" 200 -\n",
      "127.0.0.1 - - [27/Jul/2022 13:08:28] \"GET /rivers-filter.sld HTTP/1.1\" 200 -\n",
      "127.0.0.1 - - [27/Jul/2022 13:08:31] \"GET /cgi-bin/mapserv?map=/home/jovyan/work/workspace/ms-ogc-workshop/service/config.map&version=1.1.1&service=WMS&request=GetLegendGraphic&srs=EPSG:4326&bbox=-180,-90,180,90&format=image/png&layers=land_shallow_topo_2048,rivers&transparent=true&width=1000&height=600&styles= HTTP/1.1\" 200 -\n",
      "127.0.0.1 - - [27/Jul/2022 13:08:31] \"GET /cgi-bin/mapserv?map=/home/jovyan/work/workspace/ms-ogc-workshop/service/config.map&version=1.1.1&service=WMS&request=GetMap&srs=EPSG:4326&bbox=-180,-90,180,90&format=image/png&layers=land_shallow_topo_2048,rivers&transparent=true&width=1000&height=600&styles= HTTP/1.1\" 200 -\n",
      "127.0.0.1 - - [27/Jul/2022 13:08:39] \"GET /cgi-bin/mapserv?map=/home/jovyan/work/workspace/ms-ogc-workshop/service/config.map&version=1.1.1&service=WMS&request=GetFeatureInfo&srs=EPSG:4326&bbox=-180,-90,180,90&format=image/png&layers=land_shallow_topo_2048,rivers&styles=,&transparent=true&width=500&height=300&query_layers=rivers&info_format=text/html&x=141&y=91&radius=10 HTTP/1.1\" 200 -\n",
      "127.0.0.1 - - [27/Jul/2022 13:08:49] \"GET /cgi-bin/mapserv?map=/home/jovyan/work/workspace/ms-ogc-workshop/service/config.map&version=1.1.1&service=WMS&request=GetStyles&layers=rivers HTTP/1.1\" 200 -\n",
      "127.0.0.1 - - [27/Jul/2022 13:08:53] \"GET /cgi-bin/mapserv?map=/home/jovyan/work/workspace/ms-ogc-workshop/service/config.map&version=1.0.0&service=WFS&request=GetCapabilities HTTP/1.1\" 200 -\n",
      "127.0.0.1 - - [27/Jul/2022 13:09:03] \"GET /cgi-bin/mapserv/config/ogcapi/collections/rivers/items?f=html HTTP/1.1\" 200 -\n",
      "127.0.0.1 - - [27/Jul/2022 13:09:20] \"GET /cgi-bin/mapserv/config/ogcapi/collections/rivers/items?f=html HTTP/1.1\" 200 -\n",
      "127.0.0.1 - - [27/Jul/2022 13:09:36] \"GET /cgi-bin/mapserv?map=/home/jovyan/work/workspace/ms-ogc-workshop/service/config.map&version=1.0.0&service=WCS&request=GetCapabilities HTTP/1.1\" 200 -\n",
      "127.0.0.1 - - [27/Jul/2022 13:20:15] \"GET /cgi-bin/mapserv?map=/home/jovyan/work/workspace/ms-ogc-workshop/service/config.map&version=1.1.1&service=WMS&request=GetMap&srs=EPSG:4326&bbox=-180,-90,180,90&format=image/png&layers=land_shallow_topo_2048,rivers&transparent=true&width=1000&height=600&styles= HTTP/1.1\" 200 -\n",
      "127.0.0.1 - - [27/Jul/2022 13:20:17] \"GET /cgi-bin/mapserv?map=/home/jovyan/work/workspace/ms-ogc-workshop/service/config.map&version=1.1.1&service=WMS&request=GetMap&srs=EPSG:4326&bbox=-180,-90,180,90&format=image/png&layers=land_shallow_topo_2048&transparent=true&width=1000&height=600&styles= HTTP/1.1\" 200 -\n",
      "127.0.0.1 - - [27/Jul/2022 13:20:19] \"GET /cgi-bin/mapserv?map=/home/jovyan/work/workspace/ms-ogc-workshop/service/config.map&version=1.1.1&service=WMS&request=GetMap&srs=EPSG:4326&bbox=-180,-90,180,90&format=image/png&layers=land_shallow_topo_2048,rivers&transparent=true&width=1000&height=600&styles= HTTP/1.1\" 200 -\n",
      "127.0.0.1 - - [27/Jul/2022 13:20:22] \"GET /cgi-bin/mapserv?map=/home/jovyan/work/workspace/ms-ogc-workshop/service/config.map&version=1.1.1&service=WMS&request=GetMap&srs=EPSG:4326&bbox=-180,-90,180,90&format=image/png&layers=rivers&transparent=true&width=1000&height=600&styles= HTTP/1.1\" 200 -\n",
      "127.0.0.1 - - [27/Jul/2022 13:20:23] \"GET /cgi-bin/mapserv?map=/home/jovyan/work/workspace/ms-ogc-workshop/service/config.map&version=1.1.1&service=WMS&request=GetMap&srs=EPSG:4326&bbox=-180,-90,180,90&format=image/png&layers=land_shallow_topo_2048,rivers&transparent=true&width=1000&height=600&styles= HTTP/1.1\" 200 -\n",
      "127.0.0.1 - - [27/Jul/2022 13:36:28] \"GET /cgi-bin/mapserv?map=/home/jovyan/work/workspace/ms-ogc-workshop/service/config.map&version=1.1.1&service=WMS&request=GetMap&srs=EPSG:4326&bbox=-180,-90,180,90&format=image/png&layers=land_shallow_topo_2048,rivers&transparent=true&width=1000&height=600&styles= HTTP/1.1\" 200 -\n",
      "127.0.0.1 - - [27/Jul/2022 13:36:34] \"GET /cgi-bin/mapserv?map=/home/jovyan/work/workspace/ms-ogc-workshop/service/config.map&version=1.1.1&service=WMS&request=GetMap&srs=EPSG:4326&bbox=-180,-90,180,90&format=image/png&layers=land_shallow_topo_2048&transparent=true&width=1000&height=600&styles= HTTP/1.1\" 200 -\n",
      "127.0.0.1 - - [27/Jul/2022 13:36:37] \"GET /cgi-bin/mapserv?map=/home/jovyan/work/workspace/ms-ogc-workshop/service/config.map&version=1.1.1&service=WMS&request=GetMap&srs=EPSG:4326&bbox=-180,-90,180,90&format=image/png&layers=land_shallow_topo_2048,rivers&transparent=true&width=1000&height=600&styles= HTTP/1.1\" 200 -\n",
      "127.0.0.1 - - [27/Jul/2022 13:36:38] \"GET /cgi-bin/mapserv?map=/home/jovyan/work/workspace/ms-ogc-workshop/service/config.map&version=1.1.1&service=WMS&request=GetMap&srs=EPSG:4326&bbox=-180,-90,180,90&format=image/png&layers=rivers&transparent=true&width=1000&height=600&styles= HTTP/1.1\" 200 -\n",
      "127.0.0.1 - - [27/Jul/2022 13:36:46] \"GET /cgi-bin/mapserv?map=/home/jovyan/work/workspace/ms-ogc-workshop/service/config.map&version=1.1.1&service=WMS&request=GetLegendGraphic&srs=EPSG:4326&bbox=-180,-90,180,90&format=image/png&layers=land_shallow_topo_2048,rivers&transparent=true&width=1000&height=600&styles= HTTP/1.1\" 200 -\n",
      "127.0.0.1 - - [27/Jul/2022 13:36:46] \"GET /cgi-bin/mapserv?map=/home/jovyan/work/workspace/ms-ogc-workshop/service/config.map&version=1.1.1&service=WMS&request=GetMap&srs=EPSG:4326&bbox=-180,-90,180,90&format=image/png&layers=land_shallow_topo_2048,rivers&transparent=true&width=1000&height=600&styles= HTTP/1.1\" 200 -\n",
      "127.0.0.1 - - [27/Jul/2022 13:36:54] \"GET /cgi-bin/mapserv?map=/home/jovyan/work/workspace/ms-ogc-workshop/service/config.map&version=1.1.1&service=WMS&request=GetLegendGraphic&srs=EPSG:4326&bbox=-180,-90,180,90&format=image/png&layers=land_shallow_topo_2048,rivers&transparent=true&width=1000&height=600&styles=&sld=http://localhost:8000/land_shallow_topo_2048.sld HTTP/1.1\" 200 -\n",
      "127.0.0.1 - - [27/Jul/2022 13:36:54] \"GET /land_shallow_topo_2048.sld HTTP/1.1\" 200 -\n",
      "127.0.0.1 - - [27/Jul/2022 13:36:54] \"GET /cgi-bin/mapserv?map=/home/jovyan/work/workspace/ms-ogc-workshop/service/config.map&version=1.1.1&service=WMS&request=GetMap&srs=EPSG:4326&bbox=-180,-90,180,90&format=image/png&layers=land_shallow_topo_2048,rivers&transparent=true&width=1000&height=600&styles=&sld=http://localhost:8000/land_shallow_topo_2048.sld HTTP/1.1\" 200 -\n",
      "127.0.0.1 - - [27/Jul/2022 13:36:54] \"GET /land_shallow_topo_2048.sld HTTP/1.1\" 200 -\n",
      "127.0.0.1 - - [27/Jul/2022 13:37:00] \"GET /cgi-bin/mapserv?map=/home/jovyan/work/workspace/ms-ogc-workshop/service/config.map&version=1.1.1&service=WMS&request=GetLegendGraphic&srs=EPSG:4326&bbox=-180,-90,180,90&format=image/png&layers=land_shallow_topo_2048,rivers&transparent=true&width=1000&height=600&styles=&sld=http://localhost:8000/rivers.sld HTTP/1.1\" 200 -\n",
      "127.0.0.1 - - [27/Jul/2022 13:37:00] \"GET /rivers.sld HTTP/1.1\" 200 -\n",
      "127.0.0.1 - - [27/Jul/2022 13:37:00] \"GET /cgi-bin/mapserv?map=/home/jovyan/work/workspace/ms-ogc-workshop/service/config.map&version=1.1.1&service=WMS&request=GetMap&srs=EPSG:4326&bbox=-180,-90,180,90&format=image/png&layers=land_shallow_topo_2048,rivers&transparent=true&width=1000&height=600&styles=&sld=http://localhost:8000/rivers.sld HTTP/1.1\" 200 -\n",
      "127.0.0.1 - - [27/Jul/2022 13:37:00] \"GET /rivers.sld HTTP/1.1\" 200 -\n",
      "127.0.0.1 - - [27/Jul/2022 13:37:04] \"GET /cgi-bin/mapserv?map=/home/jovyan/work/workspace/ms-ogc-workshop/service/config.map&version=1.1.1&service=WMS&request=GetLegendGraphic&srs=EPSG:4326&bbox=-180,-90,180,90&format=image/png&layers=land_shallow_topo_2048,rivers&transparent=true&width=1000&height=600&styles=&sld=http://localhost:8000/rivers-hilite.sld HTTP/1.1\" 200 -\n",
      "127.0.0.1 - - [27/Jul/2022 13:37:04] \"GET /rivers-hilite.sld HTTP/1.1\" 200 -\n",
      "127.0.0.1 - - [27/Jul/2022 13:37:04] \"GET /cgi-bin/mapserv?map=/home/jovyan/work/workspace/ms-ogc-workshop/service/config.map&version=1.1.1&service=WMS&request=GetMap&srs=EPSG:4326&bbox=-180,-90,180,90&format=image/png&layers=land_shallow_topo_2048,rivers&transparent=true&width=1000&height=600&styles=&sld=http://localhost:8000/rivers-hilite.sld HTTP/1.1\" 200 -\n",
      "127.0.0.1 - - [27/Jul/2022 13:37:04] \"GET /rivers-hilite.sld HTTP/1.1\" 200 -\n",
      "127.0.0.1 - - [27/Jul/2022 13:37:07] \"GET /cgi-bin/mapserv?map=/home/jovyan/work/workspace/ms-ogc-workshop/service/config.map&version=1.1.1&service=WMS&request=GetLegendGraphic&srs=EPSG:4326&bbox=-180,-90,180,90&format=image/png&layers=land_shallow_topo_2048,rivers&transparent=true&width=1000&height=600&styles=&sld=http://localhost:8000/rivers-filter.sld HTTP/1.1\" 200 -\n",
      "127.0.0.1 - - [27/Jul/2022 13:37:08] \"GET /rivers-filter.sld HTTP/1.1\" 200 -\n",
      "127.0.0.1 - - [27/Jul/2022 13:37:08] \"GET /cgi-bin/mapserv?map=/home/jovyan/work/workspace/ms-ogc-workshop/service/config.map&version=1.1.1&service=WMS&request=GetMap&srs=EPSG:4326&bbox=-180,-90,180,90&format=image/png&layers=land_shallow_topo_2048,rivers&transparent=true&width=1000&height=600&styles=&sld=http://localhost:8000/rivers-filter.sld HTTP/1.1\" 200 -\n",
      "127.0.0.1 - - [27/Jul/2022 13:37:08] \"GET /rivers-filter.sld HTTP/1.1\" 200 -\n",
      "127.0.0.1 - - [27/Jul/2022 13:37:24] \"GET /cgi-bin/mapserv?map=/home/jovyan/work/workspace/ms-ogc-workshop/service/config.map&service=WFS&version=2.0.0&request=GetFeature&typeName=rivers&outputformat=geojson HTTP/1.1\" 200 -\n",
      "127.0.0.1 - - [27/Jul/2022 13:37:55] \"GET /cgi-bin/mapserv/config/ogcapi/collections/rivers/items?f=html HTTP/1.1\" 200 -\n",
      "127.0.0.1 - - [27/Jul/2022 13:38:07] \"GET /cgi-bin/mapserv/config/ogcapi/collections/rivers/items?f=html HTTP/1.1\" 200 -\n",
      "127.0.0.1 - - [27/Jul/2022 13:44:03] \"GET /cgi-bin/mapserv?map=/home/jovyan/work/workspace/ms-ogc-workshop/service/config.map&version=1.1.1&service=WMS&request=GetLegendGraphic&srs=EPSG:4326&bbox=-180,-90,180,90&format=image/png&layers=land_shallow_topo_2048,rivers&transparent=true&width=1000&height=600&styles= HTTP/1.1\" 200 -\n",
      "127.0.0.1 - - [27/Jul/2022 13:44:03] \"GET /cgi-bin/mapserv?map=/home/jovyan/work/workspace/ms-ogc-workshop/service/config.map&version=1.1.1&service=WMS&request=GetMap&srs=EPSG:4326&bbox=-180,-90,180,90&format=image/png&layers=land_shallow_topo_2048,rivers&transparent=true&width=1000&height=600&styles= HTTP/1.1\" 200 -\n",
      "127.0.0.1 - - [27/Jul/2022 13:44:07] \"GET /cgi-bin/mapserv?map=/home/jovyan/work/workspace/ms-ogc-workshop/service/config.map&version=1.1.1&service=WMS&request=GetLegendGraphic&srs=EPSG:4326&bbox=-180,-90,180,90&format=image/png&layers=land_shallow_topo_2048,rivers&transparent=true&width=1000&height=600&styles=&sld=http://localhost:8000/land_shallow_topo_2048.sld HTTP/1.1\" 200 -\n",
      "127.0.0.1 - - [27/Jul/2022 13:44:07] \"GET /land_shallow_topo_2048.sld HTTP/1.1\" 200 -\n",
      "127.0.0.1 - - [27/Jul/2022 13:44:07] \"GET /cgi-bin/mapserv?map=/home/jovyan/work/workspace/ms-ogc-workshop/service/config.map&version=1.1.1&service=WMS&request=GetMap&srs=EPSG:4326&bbox=-180,-90,180,90&format=image/png&layers=land_shallow_topo_2048,rivers&transparent=true&width=1000&height=600&styles=&sld=http://localhost:8000/land_shallow_topo_2048.sld HTTP/1.1\" 200 -\n",
      "127.0.0.1 - - [27/Jul/2022 13:44:07] \"GET /land_shallow_topo_2048.sld HTTP/1.1\" 200 -\n",
      "127.0.0.1 - - [27/Jul/2022 13:44:12] \"GET /cgi-bin/mapserv?map=/home/jovyan/work/workspace/ms-ogc-workshop/service/config.map&version=1.1.1&service=WMS&request=GetLegendGraphic&srs=EPSG:4326&bbox=-180,-90,180,90&format=image/png&layers=land_shallow_topo_2048,rivers&transparent=true&width=1000&height=600&styles=&sld=http://localhost:8000/rivers.sld HTTP/1.1\" 200 -\n",
      "127.0.0.1 - - [27/Jul/2022 13:44:12] \"GET /rivers.sld HTTP/1.1\" 200 -\n",
      "127.0.0.1 - - [27/Jul/2022 13:44:12] \"GET /cgi-bin/mapserv?map=/home/jovyan/work/workspace/ms-ogc-workshop/service/config.map&version=1.1.1&service=WMS&request=GetMap&srs=EPSG:4326&bbox=-180,-90,180,90&format=image/png&layers=land_shallow_topo_2048,rivers&transparent=true&width=1000&height=600&styles=&sld=http://localhost:8000/rivers.sld HTTP/1.1\" 200 -\n",
      "127.0.0.1 - - [27/Jul/2022 13:44:12] \"GET /rivers.sld HTTP/1.1\" 200 -\n",
      "127.0.0.1 - - [27/Jul/2022 13:44:13] \"GET /cgi-bin/mapserv?map=/home/jovyan/work/workspace/ms-ogc-workshop/service/config.map&version=1.1.1&service=WMS&request=GetLegendGraphic&srs=EPSG:4326&bbox=-180,-90,180,90&format=image/png&layers=land_shallow_topo_2048,rivers&transparent=true&width=1000&height=600&styles=&sld=http://localhost:8000/land_shallow_topo_2048.sld HTTP/1.1\" 200 -\n",
      "127.0.0.1 - - [27/Jul/2022 13:44:13] \"GET /land_shallow_topo_2048.sld HTTP/1.1\" 200 -\n",
      "127.0.0.1 - - [27/Jul/2022 13:44:13] \"GET /cgi-bin/mapserv?map=/home/jovyan/work/workspace/ms-ogc-workshop/service/config.map&version=1.1.1&service=WMS&request=GetMap&srs=EPSG:4326&bbox=-180,-90,180,90&format=image/png&layers=land_shallow_topo_2048,rivers&transparent=true&width=1000&height=600&styles=&sld=http://localhost:8000/land_shallow_topo_2048.sld HTTP/1.1\" 200 -\n",
      "127.0.0.1 - - [27/Jul/2022 13:44:13] \"GET /land_shallow_topo_2048.sld HTTP/1.1\" 200 -\n",
      "127.0.0.1 - - [27/Jul/2022 14:06:35] \"GET /cgi-bin/mapserv/config/ogcapi/collections/rivers?f=json HTTP/1.1\" 200 -\n",
      "127.0.0.1 - - [27/Jul/2022 14:06:39] \"GET /cgi-bin/mapserv/config/ogcapi/collections/rivers?f=json HTTP/1.1\" 200 -\n",
      "127.0.0.1 - - [27/Jul/2022 14:07:28] \"GET /cgi-bin/mapserv/config/ogcapi/collections/rivers?f=json HTTP/1.1\" 200 -\n",
      "127.0.0.1 - - [27/Jul/2022 14:07:55] \"GET /cgi-bin/mapserv/config/ogcapi/collections/rivers?f=json HTTP/1.1\" 200 -\n",
      "127.0.0.1 - - [27/Jul/2022 14:08:07] \"GET /cgi-bin/mapserv/config/ogcapi/collections/rivers/items?f=json HTTP/1.1\" 200 -\n",
      "127.0.0.1 - - [27/Jul/2022 14:12:12] \"GET /cgi-bin/mapserv/config/ogcapi/collections/rivers/items?f=json&limit=100 HTTP/1.1\" 200 -\n",
      "127.0.0.1 - - [27/Jul/2022 14:13:33] \"GET /cgi-bin/mapserv/config/ogcapi/collections/rivers/items?f=json&limit=100 HTTP/1.1\" 200 -\n",
      "127.0.0.1 - - [27/Jul/2022 14:15:28] \"GET /cgi-bin/mapserv?map=/home/jovyan/work/workspace/ms-ogc-workshop/service/config.map&service=WFS&version=2.0.0&request=GetFeature&typeName=rivers&outputformat=geojson HTTP/1.1\" 200 -\n",
      "127.0.0.1 - - [27/Jul/2022 14:16:43] \"GET /cgi-bin/mapserv/config/ogcapi/collections/rivers/items?f=json&limit=100 HTTP/1.1\" 200 -\n",
      "127.0.0.1 - - [27/Jul/2022 14:16:55] \"GET /cgi-bin/mapserv?map=/home/jovyan/work/workspace/ms-ogc-workshop/service/config.map&version=1.0.0&service=WCS&request=GetCapabilities HTTP/1.1\" 200 -\n",
      "127.0.0.1 - - [27/Jul/2022 14:16:58] \"GET /cgi-bin/mapserv?map=/home/jovyan/work/workspace/ms-ogc-workshop/service/config.map&version=1.0.0&service=WCS&request=DescribeCoverage&coverage=toronto HTTP/1.1\" 200 -\n",
      "127.0.0.1 - - [27/Jul/2022 14:17:02] \"GET /cgi-bin/mapserv?map=/home/jovyan/work/workspace/ms-ogc-workshop/service/config.map&version=1.0.0&service=WCS&request=GetCoverage&coverage=toronto&crs=EPSG:26917&resx=500&resy=500&format=GEOTIFF_RGB&BBOX=456850,4732100,706850,4957100 HTTP/1.1\" 200 -\n",
      "127.0.0.1 - - [27/Jul/2022 14:17:05] \"GET /cgi-bin/mapserv?map=/home/jovyan/work/workspace/ms-ogc-workshop/service/config.map&version=1.0.0&service=WCS&request=GetCoverage&coverage=toronto&crs=EPSG:26917&resx=500&resy=500&format=GEOTIFF_RGB&BBOX=456850,4732100,706850,4957100 HTTP/1.1\" 200 -\n"
     ]
    }
   ],
   "source": [
    "!cd ~/.local/ ; MAPSERVER_CONFIG_FILE=/home/jovyan/.local/etc/mapserver-sample.conf python -m http.server 8000 --cgi "
   ]
  },
  {
   "cell_type": "markdown",
   "metadata": {},
   "source": [
    "Once the command is started, you can go directly to the [next step](../OGC_Web_Services_Workshop.ipynb)."
   ]
  }
 ],
 "metadata": {
  "kernelspec": {
   "display_name": "Python 3",
   "language": "python",
   "name": "python3"
  },
  "language_info": {
   "codemirror_mode": {
    "name": "ipython",
    "version": 3
   },
   "file_extension": ".py",
   "mimetype": "text/x-python",
   "name": "python",
   "nbconvert_exporter": "python",
   "pygments_lexer": "ipython3",
   "version": "3.8.5"
  }
 },
 "nbformat": 4,
 "nbformat_minor": 4
}
